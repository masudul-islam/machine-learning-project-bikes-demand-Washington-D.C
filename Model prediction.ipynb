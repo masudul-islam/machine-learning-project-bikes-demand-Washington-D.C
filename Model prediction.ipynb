{
  "nbformat": 4,
  "nbformat_minor": 0,
  "metadata": {
    "colab": {
      "provenance": []
    },
    "kernelspec": {
      "name": "python3",
      "display_name": "Python 3"
    },
    "language_info": {
      "name": "python"
    }
  },
  "cells": [
    {
      "cell_type": "code",
      "execution_count": null,
      "metadata": {
        "colab": {
          "base_uri": "https://localhost:8080/"
        },
        "id": "zU8EMAkQrQNX",
        "outputId": "8c29d3c9-81e7-4d44-e9f2-e227e14109d8"
      },
      "outputs": [
        {
          "output_type": "stream",
          "name": "stdout",
          "text": [
            "Fitting 3 folds for each of 27 candidates, totalling 81 fits\n",
            "Best Parameters from Grid Search: {'learning_rate': 0.01, 'max_depth': 4, 'n_estimators': 400}\n",
            "Accuracy on Test Set: 0.875\n",
            "Classification Report:\n",
            "               precision    recall  f1-score   support\n",
            "\n",
            "           0       0.60      0.62      0.61        50\n",
            "           1       0.93      0.92      0.93       270\n",
            "\n",
            "    accuracy                           0.88       320\n",
            "   macro avg       0.76      0.77      0.77       320\n",
            "weighted avg       0.88      0.88      0.88       320\n",
            "\n",
            "Cross-validation scores: [0.921875   0.88671875 0.8984375  0.88671875 0.9140625 ]\n",
            "Mean cross-validation score: 0.9015625\n"
          ]
        }
      ],
      "source": [
        "import pandas as pd\n",
        "import seaborn as sns\n",
        "import matplotlib.pyplot as plt\n",
        "from sklearn.model_selection import train_test_split, GridSearchCV, cross_val_score, learning_curve\n",
        "from sklearn.preprocessing import StandardScaler, LabelEncoder\n",
        "from sklearn.ensemble import GradientBoostingClassifier\n",
        "from sklearn.metrics import classification_report, accuracy_score\n",
        "\n",
        "# Load the dataset\n",
        "file_path = 'training_data.csv'\n",
        "data = pd.read_csv(file_path)\n",
        "\n",
        "# Inspect the header of the dataset\n",
        "data.head()\n",
        "\n",
        "# Identifying categorical and numerical variables\n",
        "categorical = data.columns.tolist()\n",
        "numerical = data.columns.tolist()\n",
        "target_var = data.columns[-1]\n",
        "\n",
        "# Encode the categorical target variable\n",
        "label_encoder = LabelEncoder()\n",
        "data['increase_stock'] = label_encoder.fit_transform(data['increase_stock'])\n",
        "\n",
        "# Splitting the dataset into features (X) and target variable (y)\n",
        "X = data.drop('increase_stock', axis=1)\n",
        "y = data['increase_stock']\n",
        "\n",
        "# Splitting the data into training and testing sets\n",
        "X_train, X_test, y_train, y_test = train_test_split(X, y, test_size=0.2, random_state=42)\n",
        "\n",
        "# Standardize the features\n",
        "scaler = StandardScaler()\n",
        "X_train = scaler.fit_transform(X_train)\n",
        "X_test = scaler.transform(X_test)\n",
        "\n",
        "# Initialize the Gradient Boosting Classifier\n",
        "gb_classifier = GradientBoostingClassifier(random_state=42)\n",
        "\n",
        "# Grid Search for parameter tuning\n",
        "param_grid = {'n_estimators': [200, 300, 400], 'learning_rate': [0.01, 0.1, 0.2], 'max_depth': [3, 4, 5]}\n",
        "grid_search = GridSearchCV(estimator=gb_classifier, param_grid=param_grid, cv=3, n_jobs=-1, verbose=2)\n",
        "grid_search.fit(X_train, y_train)\n",
        "\n",
        "# Best parameters from Grid Search\n",
        "best_params_grid = grid_search.best_params_\n",
        "print(\"Best Parameters from Grid Search:\", best_params_grid)\n",
        "\n",
        "# Train the model with the best parameters found\n",
        "best_gb_classifier = GradientBoostingClassifier(**best_params_grid, random_state=42)\n",
        "best_gb_classifier.fit(X_train, y_train)\n",
        "\n",
        "# Predictions and Evaluation\n",
        "y_pred = best_gb_classifier.predict(X_test)\n",
        "accuracy = accuracy_score(y_test, y_pred)\n",
        "report = classification_report(y_test, y_pred)\n",
        "print(\"Accuracy on Test Set:\", accuracy)\n",
        "print(\"Classification Report:\\n\", report)\n",
        "\n",
        "# Perform cross-validation\n",
        "cv_scores = cross_val_score(gb_classifier, X_train, y_train, cv=5)\n",
        "print(f\"Cross-validation scores: {cv_scores}\")\n",
        "print(f\"Mean cross-validation score: {cv_scores.mean()}\")\n",
        "\n",
        "\n"
      ]
    },
    {
      "cell_type": "code",
      "source": [
        "import joblib\n",
        "import pandas as pd\n",
        "from sklearn.preprocessing import StandardScaler, LabelEncoder\n",
        "\n",
        "# Load the trained Gradient Boosting Classifier model\n",
        "model_path = 'best_gb_classifier.pkl'\n",
        "best_gb_classifier = joblib.load(model_path)\n",
        "\n",
        "# Load the scaler used for the training data\n",
        "scaler_path = 'scaler.pkl'\n",
        "scaler = joblib.load(scaler_path)\n",
        "\n",
        "# Load the test data\n",
        "test_data_path = 'test_data.csv'\n",
        "test_data = pd.read_csv(test_data_path)\n",
        "\n",
        "# Ensure that test_data only contains features, similar to how X_train was structured\n",
        "X_test = test_data.drop('increase_stock', axis=1, errors='ignore')\n",
        "\n",
        "# Scale the test data using the loaded scaler\n",
        "X_test_scaled = scaler.transform(X_test)\n",
        "\n",
        "# Generate predictions\n",
        "predictions = best_gb_classifier.predict(X_test_scaled)\n",
        "\n",
        "# Convert predictions to the required format (a single row of comma-separated values)\n",
        "predictions_str = ','.join(map(str, predictions))\n",
        "\n",
        "# Write the predictions to a CSV file\n",
        "# This file will have a single line with no header\n",
        "output_file_path = 'predictions.csv'  # The output file path\n",
        "with open(output_file_path, 'w') as f:\n",
        "    f.write(predictions_str)\n",
        "\n",
        "print(f\"Predictions have been written to {output_file_path}\")\n"
      ],
      "metadata": {
        "colab": {
          "base_uri": "https://localhost:8080/"
        },
        "id": "Poqss4NXrtbv",
        "outputId": "e2903f2e-958f-4f75-dc58-351e5628a44f"
      },
      "execution_count": null,
      "outputs": [
        {
          "output_type": "stream",
          "name": "stdout",
          "text": [
            "Predictions have been written to predictions.csv\n"
          ]
        }
      ]
    },
    {
      "cell_type": "code",
      "source": [
        "# Load the dataset\n",
        "file_path = 'predictions.csv'\n",
        "data = pd.read_csv(file_path)"
      ],
      "metadata": {
        "id": "o2ZliDIvsdK0"
      },
      "execution_count": null,
      "outputs": []
    },
    {
      "cell_type": "code",
      "source": [
        "data.head()"
      ],
      "metadata": {
        "colab": {
          "base_uri": "https://localhost:8080/",
          "height": 98
        },
        "id": "xQDzCwPIGb9Z",
        "outputId": "3d8093f6-f0d3-4715-dbad-36a4b9662a00"
      },
      "execution_count": null,
      "outputs": [
        {
          "output_type": "execute_result",
          "data": {
            "text/plain": [
              "Empty DataFrame\n",
              "Columns: [0, 1, 0.1, 0.2, 0.3, 0.4, 1.1, 0.5, 0.6, 0.7, 1.2, 1.3, 0.8, 0.9, 0.10, 1.4, 0.11, 0.12, 0.13, 0.14, 0.15, 0.16, 0.17, 1.5, 0.18, 0.19, 0.20, 0.21, 1.6, 0.22, 0.23, 0.24, 0.25, 0.26, 1.7, 0.27, 0.28, 0.29, 0.30, 0.31, 0.32, 0.33, 0.34, 0.35, 0.36, 0.37, 0.38, 1.8, 1.9, 0.39, 0.40, 1.10, 0.41, 0.42, 0.43, 0.44, 1.11, 0.45, 0.46, 1.12, 0.47, 0.48, 0.49, 0.50, 1.13, 0.51, 0.52, 0.53, 0.54, 0.55, 0.56, 0.57, 1.14, 0.58, 0.59, 0.60, 0.61, 0.62, 0.63, 0.64, 0.65, 0.66, 0.67, 0.68, 0.69, 0.70, 0.71, 0.72, 0.73, 0.74, 1.15, 0.75, 0.76, 0.77, 0.78, 0.79, 0.80, 0.81, 1.16, 0.82, ...]\n",
              "Index: []\n",
              "\n",
              "[0 rows x 400 columns]"
            ],
            "text/html": [
              "\n",
              "  <div id=\"df-e88bafbb-81ff-46d6-8b01-c43cdafd00fb\" class=\"colab-df-container\">\n",
              "    <div>\n",
              "<style scoped>\n",
              "    .dataframe tbody tr th:only-of-type {\n",
              "        vertical-align: middle;\n",
              "    }\n",
              "\n",
              "    .dataframe tbody tr th {\n",
              "        vertical-align: top;\n",
              "    }\n",
              "\n",
              "    .dataframe thead th {\n",
              "        text-align: right;\n",
              "    }\n",
              "</style>\n",
              "<table border=\"1\" class=\"dataframe\">\n",
              "  <thead>\n",
              "    <tr style=\"text-align: right;\">\n",
              "      <th></th>\n",
              "      <th>0</th>\n",
              "      <th>1</th>\n",
              "      <th>0.1</th>\n",
              "      <th>0.2</th>\n",
              "      <th>0.3</th>\n",
              "      <th>0.4</th>\n",
              "      <th>1.1</th>\n",
              "      <th>0.5</th>\n",
              "      <th>0.6</th>\n",
              "      <th>0.7</th>\n",
              "      <th>...</th>\n",
              "      <th>0.317</th>\n",
              "      <th>0.318</th>\n",
              "      <th>0.319</th>\n",
              "      <th>0.320</th>\n",
              "      <th>1.73</th>\n",
              "      <th>0.321</th>\n",
              "      <th>0.322</th>\n",
              "      <th>0.323</th>\n",
              "      <th>0.324</th>\n",
              "      <th>0.325</th>\n",
              "    </tr>\n",
              "  </thead>\n",
              "  <tbody>\n",
              "  </tbody>\n",
              "</table>\n",
              "<p>0 rows × 400 columns</p>\n",
              "</div>\n",
              "    <div class=\"colab-df-buttons\">\n",
              "\n",
              "  <div class=\"colab-df-container\">\n",
              "    <button class=\"colab-df-convert\" onclick=\"convertToInteractive('df-e88bafbb-81ff-46d6-8b01-c43cdafd00fb')\"\n",
              "            title=\"Convert this dataframe to an interactive table.\"\n",
              "            style=\"display:none;\">\n",
              "\n",
              "  <svg xmlns=\"http://www.w3.org/2000/svg\" height=\"24px\" viewBox=\"0 -960 960 960\">\n",
              "    <path d=\"M120-120v-720h720v720H120Zm60-500h600v-160H180v160Zm220 220h160v-160H400v160Zm0 220h160v-160H400v160ZM180-400h160v-160H180v160Zm440 0h160v-160H620v160ZM180-180h160v-160H180v160Zm440 0h160v-160H620v160Z\"/>\n",
              "  </svg>\n",
              "    </button>\n",
              "\n",
              "  <style>\n",
              "    .colab-df-container {\n",
              "      display:flex;\n",
              "      gap: 12px;\n",
              "    }\n",
              "\n",
              "    .colab-df-convert {\n",
              "      background-color: #E8F0FE;\n",
              "      border: none;\n",
              "      border-radius: 50%;\n",
              "      cursor: pointer;\n",
              "      display: none;\n",
              "      fill: #1967D2;\n",
              "      height: 32px;\n",
              "      padding: 0 0 0 0;\n",
              "      width: 32px;\n",
              "    }\n",
              "\n",
              "    .colab-df-convert:hover {\n",
              "      background-color: #E2EBFA;\n",
              "      box-shadow: 0px 1px 2px rgba(60, 64, 67, 0.3), 0px 1px 3px 1px rgba(60, 64, 67, 0.15);\n",
              "      fill: #174EA6;\n",
              "    }\n",
              "\n",
              "    .colab-df-buttons div {\n",
              "      margin-bottom: 4px;\n",
              "    }\n",
              "\n",
              "    [theme=dark] .colab-df-convert {\n",
              "      background-color: #3B4455;\n",
              "      fill: #D2E3FC;\n",
              "    }\n",
              "\n",
              "    [theme=dark] .colab-df-convert:hover {\n",
              "      background-color: #434B5C;\n",
              "      box-shadow: 0px 1px 3px 1px rgba(0, 0, 0, 0.15);\n",
              "      filter: drop-shadow(0px 1px 2px rgba(0, 0, 0, 0.3));\n",
              "      fill: #FFFFFF;\n",
              "    }\n",
              "  </style>\n",
              "\n",
              "    <script>\n",
              "      const buttonEl =\n",
              "        document.querySelector('#df-e88bafbb-81ff-46d6-8b01-c43cdafd00fb button.colab-df-convert');\n",
              "      buttonEl.style.display =\n",
              "        google.colab.kernel.accessAllowed ? 'block' : 'none';\n",
              "\n",
              "      async function convertToInteractive(key) {\n",
              "        const element = document.querySelector('#df-e88bafbb-81ff-46d6-8b01-c43cdafd00fb');\n",
              "        const dataTable =\n",
              "          await google.colab.kernel.invokeFunction('convertToInteractive',\n",
              "                                                    [key], {});\n",
              "        if (!dataTable) return;\n",
              "\n",
              "        const docLinkHtml = 'Like what you see? Visit the ' +\n",
              "          '<a target=\"_blank\" href=https://colab.research.google.com/notebooks/data_table.ipynb>data table notebook</a>'\n",
              "          + ' to learn more about interactive tables.';\n",
              "        element.innerHTML = '';\n",
              "        dataTable['output_type'] = 'display_data';\n",
              "        await google.colab.output.renderOutput(dataTable, element);\n",
              "        const docLink = document.createElement('div');\n",
              "        docLink.innerHTML = docLinkHtml;\n",
              "        element.appendChild(docLink);\n",
              "      }\n",
              "    </script>\n",
              "  </div>\n",
              "\n",
              "    </div>\n",
              "  </div>\n"
            ]
          },
          "metadata": {},
          "execution_count": 27
        }
      ]
    },
    {
      "cell_type": "code",
      "source": [
        "# Print the number of rows and columns in the DataFrame\n",
        "print(data.shape)\n"
      ],
      "metadata": {
        "colab": {
          "base_uri": "https://localhost:8080/"
        },
        "id": "yZTTrqkpGghG",
        "outputId": "a634cc93-8647-4630-aa20-e4ae959ebb3f"
      },
      "execution_count": null,
      "outputs": [
        {
          "output_type": "stream",
          "name": "stdout",
          "text": [
            "(0, 400)\n"
          ]
        }
      ]
    },
    {
      "cell_type": "code",
      "source": [
        "# Print the first few rows of the DataFrame\n",
        "print(data.head())"
      ],
      "metadata": {
        "colab": {
          "base_uri": "https://localhost:8080/"
        },
        "id": "RilRL3VAGv3f",
        "outputId": "d4109f2b-97e9-45ba-d5e5-594f4d0df088"
      },
      "execution_count": null,
      "outputs": [
        {
          "output_type": "stream",
          "name": "stdout",
          "text": [
            "Empty DataFrame\n",
            "Columns: [0, 1, 0.1, 0.2, 0.3, 0.4, 1.1, 0.5, 0.6, 0.7, 1.2, 1.3, 0.8, 0.9, 0.10, 1.4, 0.11, 0.12, 0.13, 0.14, 0.15, 0.16, 0.17, 1.5, 0.18, 0.19, 0.20, 0.21, 1.6, 0.22, 0.23, 0.24, 0.25, 0.26, 1.7, 0.27, 0.28, 0.29, 0.30, 0.31, 0.32, 0.33, 0.34, 0.35, 0.36, 0.37, 0.38, 1.8, 1.9, 0.39, 0.40, 1.10, 0.41, 0.42, 0.43, 0.44, 1.11, 0.45, 0.46, 1.12, 0.47, 0.48, 0.49, 0.50, 1.13, 0.51, 0.52, 0.53, 0.54, 0.55, 0.56, 0.57, 1.14, 0.58, 0.59, 0.60, 0.61, 0.62, 0.63, 0.64, 0.65, 0.66, 0.67, 0.68, 0.69, 0.70, 0.71, 0.72, 0.73, 0.74, 1.15, 0.75, 0.76, 0.77, 0.78, 0.79, 0.80, 0.81, 1.16, 0.82, ...]\n",
            "Index: []\n",
            "\n",
            "[0 rows x 400 columns]\n"
          ]
        }
      ]
    },
    {
      "cell_type": "code",
      "source": [],
      "metadata": {
        "id": "nf088NA5G1og"
      },
      "execution_count": null,
      "outputs": []
    }
  ]
}